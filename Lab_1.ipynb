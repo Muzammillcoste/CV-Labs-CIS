{
 "cells": [
  {
   "cell_type": "markdown",
   "metadata": {},
   "source": [
    "# Lab Session 01"
   ]
  },
  {
   "cell_type": "markdown",
   "metadata": {},
   "source": [
    "### MATLAB Code \n",
    "### Reading, writing and querying images\n",
    "```\n",
    "imfinfo('cameraman.tif') \n",
    "Img=imread('cameraman.tif'); \n",
    "imwrite(Img, 'cameraman.jpg',’jpg’);\n",
    "imfinfo('cameraman.jpg');\n",
    "\n",
    "```"
   ]
  },
  {
   "cell_type": "markdown",
   "metadata": {},
   "source": [
    "### Python Code\n"
   ]
  },
  {
   "cell_type": "code",
   "execution_count": null,
   "metadata": {},
   "outputs": [],
   "source": [
    "from PIL import Image\n",
    "\n",
    "# Open the TIF image\n",
    "img = Image.open('cameraman.tiff')\n",
    "print(\"Original Image Info:\", img.format, img.size, img.mode)\n",
    "\n",
    "# Convert the image to RGB mode before saving it as JPG\n",
    "img = img.convert('RGB') # This line is added to convert the image to RGB\n",
    "\n",
    "# Save the image as JPG\n",
    "img.save('cameraman.jpg', 'JPEG')\n",
    "\n",
    "# Open the new JPG image and display its info\n",
    "img_jpg = Image.open('cameraman.jpg')\n",
    "print(\"New Image Info:\", img_jpg.format, img_jpg.size, img_jpg.mode)"
   ]
  },
  {
   "cell_type": "markdown",
   "metadata": {},
   "source": [
    "### MATLAB Code\n",
    "\n",
    "### Displaying images\n",
    "\n",
    "```\n",
    "A=imread(‘cameraman.tif ’); %Read in intensity image\n",
    "imshow(A); %First display image using imshow\n",
    "imagesc(A); %Next display image using imagesc\n",
    "axis image; %Correct aspect ratio of displayed image\n",
    "axis off; %Turn off the axis labelling\n",
    "colormap(gray);\n",
    "\n"
   ]
  },
  {
   "cell_type": "markdown",
   "metadata": {},
   "source": [
    "### Python Code\n"
   ]
  },
  {
   "cell_type": "code",
   "execution_count": null,
   "metadata": {},
   "outputs": [],
   "source": [
    "import matplotlib.pyplot as plt\n",
    "from PIL import Image\n",
    "import numpy as np\n",
    "\n",
    "# Read the intensity image\n",
    "A = np.array(Image.open('cameraman.tiff'))\n",
    "\n",
    "# Display the image using imshow\n",
    "plt.figure()\n",
    "plt.title(\"Display using imshow\")\n",
    "plt.imshow(A, cmap='gray')\n",
    "plt.axis('off')  # Turn off axis labeling\n",
    "plt.show()\n",
    "\n",
    "# Display the image using imagesc equivalent\n",
    "plt.figure()\n",
    "plt.title(\"Display using imagesc equivalent\")\n",
    "plt.imshow(A, cmap='gray')\n",
    "plt.axis('image')  # Correct the aspect ratio\n",
    "plt.axis('off')  # Turn off axis labeling\n",
    "plt.colorbar()  # Add a colorbar (optional)\n",
    "plt.show()\n"
   ]
  },
  {
   "cell_type": "markdown",
   "metadata": {},
   "source": [
    "### MATLAB Code Matrix visualization for images\n",
    "\n",
    "```\n",
    "A = magic(5); % Create an image(2D Matrix) of a 5-by-5 magic square.\n",
    "image(A); %Display this 2D image with intrinsic coordinates. Here, %the x-and y- coordinate ranges are both [1 5] \n",
    "axis image axis image %Correct aspect ratio of displayed image\n",
    "colormap(gca, jet(25)) %Set colourmap to jet (false colour)\n",
    "title('Image Displayed with Intrinsic Coordinates');\n",
    "\n",
    "```"
   ]
  },
  {
   "cell_type": "markdown",
   "metadata": {},
   "source": [
    "### Python Code\n"
   ]
  },
  {
   "cell_type": "code",
   "execution_count": null,
   "metadata": {},
   "outputs": [],
   "source": [
    "import numpy as np\n",
    "import matplotlib.pyplot as plt\n",
    "\n",
    "# Create a 5x5 magic square (similar to MATLAB's magic function)\n",
    "def magic(n):\n",
    "    if n % 2 == 1:  # Odd-order magic square\n",
    "        magic_square = np.zeros((n, n), dtype=int)\n",
    "        i, j = 0, n // 2\n",
    "        for num in range(1, n * n + 1):\n",
    "            magic_square[i, j] = num\n",
    "            i_new, j_new = (i - 1) % n, (j + 1) % n\n",
    "            if magic_square[i_new, j_new]:\n",
    "                i += 1\n",
    "            else:\n",
    "                i, j = i_new, j_new\n",
    "        return magic_square\n",
    "    else:\n",
    "        raise ValueError(\"Magic square implementation is for odd numbers only\")\n",
    "\n",
    "# Create a 5x5 magic square\n",
    "A = magic(5)\n",
    "\n",
    "# Display the 2D image with intrinsic coordinates\n",
    "plt.figure()\n",
    "plt.imshow(A, interpolation='nearest')  # Display the 2D matrix\n",
    "plt.axis('image')  # Correct aspect ratio\n",
    "plt.colorbar()  # Add a colorbar\n",
    "plt.set_cmap('jet')  # Set colormap to 'jet'\n",
    "plt.title('Image Displayed with Intrinsic Coordinates')\n",
    "plt.show()"
   ]
  }
 ],
 "metadata": {
  "language_info": {
   "name": "python"
  }
 },
 "nbformat": 4,
 "nbformat_minor": 2
}
